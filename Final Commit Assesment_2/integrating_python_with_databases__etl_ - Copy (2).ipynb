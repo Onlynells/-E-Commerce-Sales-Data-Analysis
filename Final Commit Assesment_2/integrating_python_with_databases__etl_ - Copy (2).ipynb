{
 "cells": [
  {
   "cell_type": "code",
   "execution_count": 29,
   "id": "36c122ca-2b37-41b8-af36-7174f114dcd2",
   "metadata": {},
   "outputs": [],
   "source": [
    "# Import necessary libraries\n",
    "import pandas as pd\n",
    "import mysql.connector\n",
    "import numpy as np"
   ]
  },
  {
   "cell_type": "code",
   "execution_count": null,
   "id": "7734e0d5-f8b9-403f-9d66-5b034446832f",
   "metadata": {},
   "outputs": [],
   "source": [
    "# MySQL database connection configuration\n",
    "db_config = {\n",
    "    'host': 'localhost',\n",
    "    'user': 'root',\n",
    "    'password': 'Test@2025'\n",
    "}"
   ]
  },
  {
   "cell_type": "code",
   "execution_count": 33,
   "id": "89990e1f-adf7-46d5-bced-c08827db8b15",
   "metadata": {},
   "outputs": [],
   "source": [
    "# Establish connection to MySQL database\n",
    "conn = mysql.connector.connect(**db_config)"
   ]
  },
  {
   "cell_type": "code",
   "execution_count": 34,
   "id": "5c79ee90-5f80-404e-a5ed-9fe2e81782b0",
   "metadata": {},
   "outputs": [],
   "source": [
    "# Function to execute MySQL queries\n",
    "def execute_query(query):\n",
    "    cursor = conn.cursor()\n",
    "    cursor.execute(query)\n",
    "    conn.commit()\n",
    "    cursor.close()"
   ]
  },
  {
   "cell_type": "code",
   "execution_count": 35,
   "id": "52084789-0ef8-41a7-8162-dc6e9f31b39c",
   "metadata": {},
   "outputs": [],
   "source": [
    "# Create database if not exists\n",
    "create_db_query = \"CREATE DATABASE IF NOT EXISTS ETL_instances;\"\n",
    "execute_query(create_db_query)"
   ]
  },
  {
   "cell_type": "code",
   "execution_count": 36,
   "id": "1a18417b-56df-4f46-8708-6055b58e0e0f",
   "metadata": {},
   "outputs": [],
   "source": [
    "# Use the database\n",
    "use_db_query = \"USE ETL_instances;\"\n",
    "execute_query(use_db_query)"
   ]
  },
  {
   "cell_type": "code",
   "execution_count": 37,
   "id": "ad7f0e60-6557-4834-8863-8c59405e4269",
   "metadata": {},
   "outputs": [],
   "source": [
    "# Create raw_data table\n",
    "create_raw_data_table_query = \"\"\"\n",
    "CREATE TABLE IF NOT EXISTS raw_data (\n",
    "    id INT AUTO_INCREMENT PRIMARY KEY,\n",
    "    name VARCHAR(255),\n",
    "    age INT,\n",
    "    city VARCHAR(255)\n",
    ");\n",
    "\"\"\"\n",
    "execute_query(create_raw_data_table_query)"
   ]
  },
  {
   "cell_type": "code",
   "execution_count": 38,
   "id": "f5baa3bb-cf2b-40da-8cdd-81b7d2a400bb",
   "metadata": {},
   "outputs": [],
   "source": [
    "import numpy as np\n",
    "\n",
    "# Generate sample data with null values and inconsistencies\n",
    "num_rows = 100\n",
    "names = ['John', 'Jane', 'Mike', 'Emily', 'Chris', None]  # Including null values\n",
    "ages = np.random.randint(18, 60, size=num_rows).astype(float)  # Convert to float to allow NaN\n",
    "nan_indices = np.random.choice(range(num_rows), size=num_rows//10, replace=False)  # Select 10% indices for null values\n",
    "ages[nan_indices] = np.nan  # Introducing some null values\n",
    "\n",
    "# Define initial cities list\n",
    "initial_cities = ['Nairobi', 'Mombasa', 'Kisumu', 'Nakuru', 'Eldoret', '']\n",
    "\n",
    "# Calculate repetition factor to ensure the list covers num_rows\n",
    "repetition_factor = num_rows // len(initial_cities) + 1\n",
    "\n",
    "# Now, extend the list to match num_rows\n",
    "cities = initial_cities * repetition_factor\n",
    "np.random.shuffle(cities)  # Shuffle to introduce inconsistencies\n",
    "cities = cities[:num_rows]  # Trim to match num_rows\n"
   ]
  },
  {
   "cell_type": "code",
   "execution_count": 39,
   "id": "80ace699-0b46-4044-8108-c33a2da6081c",
   "metadata": {},
   "outputs": [],
   "source": [
    "# Create DataFrame\n",
    "sample_df = pd.DataFrame({\n",
    "    'name': np.random.choice(names, size=num_rows),\n",
    "    'age': ages,\n",
    "    'city': cities\n",
    "})"
   ]
  },
  {
   "cell_type": "code",
   "execution_count": 40,
   "id": "962452b2-cbaa-41e7-9e0b-988370bdaaf0",
   "metadata": {},
   "outputs": [
    {
     "data": {
      "text/html": [
       "<div>\n",
       "<style scoped>\n",
       "    .dataframe tbody tr th:only-of-type {\n",
       "        vertical-align: middle;\n",
       "    }\n",
       "\n",
       "    .dataframe tbody tr th {\n",
       "        vertical-align: top;\n",
       "    }\n",
       "\n",
       "    .dataframe thead th {\n",
       "        text-align: right;\n",
       "    }\n",
       "</style>\n",
       "<table border=\"1\" class=\"dataframe\">\n",
       "  <thead>\n",
       "    <tr style=\"text-align: right;\">\n",
       "      <th></th>\n",
       "      <th>name</th>\n",
       "      <th>age</th>\n",
       "      <th>city</th>\n",
       "    </tr>\n",
       "  </thead>\n",
       "  <tbody>\n",
       "    <tr>\n",
       "      <th>0</th>\n",
       "      <td>Mike</td>\n",
       "      <td>23.0</td>\n",
       "      <td>Nakuru</td>\n",
       "    </tr>\n",
       "    <tr>\n",
       "      <th>1</th>\n",
       "      <td>Jane</td>\n",
       "      <td>NaN</td>\n",
       "      <td>Nakuru</td>\n",
       "    </tr>\n",
       "    <tr>\n",
       "      <th>2</th>\n",
       "      <td>Chris</td>\n",
       "      <td>56.0</td>\n",
       "      <td>Mombasa</td>\n",
       "    </tr>\n",
       "    <tr>\n",
       "      <th>3</th>\n",
       "      <td>None</td>\n",
       "      <td>25.0</td>\n",
       "      <td>Mombasa</td>\n",
       "    </tr>\n",
       "    <tr>\n",
       "      <th>4</th>\n",
       "      <td>Emily</td>\n",
       "      <td>21.0</td>\n",
       "      <td>Eldoret</td>\n",
       "    </tr>\n",
       "  </tbody>\n",
       "</table>\n",
       "</div>"
      ],
      "text/plain": [
       "    name   age     city\n",
       "0   Mike  23.0   Nakuru\n",
       "1   Jane   NaN   Nakuru\n",
       "2  Chris  56.0  Mombasa\n",
       "3   None  25.0  Mombasa\n",
       "4  Emily  21.0  Eldoret"
      ]
     },
     "execution_count": 40,
     "metadata": {},
     "output_type": "execute_result"
    }
   ],
   "source": [
    "sample_df.head()"
   ]
  },
  {
   "cell_type": "code",
   "execution_count": 41,
   "id": "29ca64fc-809e-4577-89b5-477e32bf9988",
   "metadata": {},
   "outputs": [
    {
     "data": {
      "text/plain": [
       "100"
      ]
     },
     "execution_count": 41,
     "metadata": {},
     "output_type": "execute_result"
    }
   ],
   "source": [
    "len(sample_df)"
   ]
  },
  {
   "cell_type": "code",
   "execution_count": 42,
   "id": "2cfdb438-f975-4ef1-996d-9320373190b7",
   "metadata": {},
   "outputs": [],
   "source": [
    "# Insert sample data into raw_data table\n",
    "for index, row in sample_df.iterrows():\n",
    "    name_value = f\"'{row['name']}'\" if row['name'] is not None else 'NULL'\n",
    "    age_value = str(row['age']) if not np.isnan(row['age']) else 'NULL'\n",
    "    city_value = f\"'{row['city']}'\" if row['city'] != '' else 'NULL'\n",
    "    \n",
    "    insert_query = f\"\"\"\n",
    "    INSERT INTO raw_data (name, age, city) \n",
    "    VALUES ({name_value}, {age_value}, {city_value})\n",
    "    \"\"\"\n",
    "    execute_query(insert_query)\n"
   ]
  },
  {
   "cell_type": "code",
   "execution_count": 43,
   "id": "20661a6c-46f0-44a5-ba84-6991af067fb1",
   "metadata": {},
   "outputs": [
    {
     "name": "stderr",
     "output_type": "stream",
     "text": [
      "C:\\Users\\Amoro\\AppData\\Local\\Temp\\ipykernel_6816\\1413506267.py:3: UserWarning: pandas only supports SQLAlchemy connectable (engine/connection) or database string URI or sqlite3 DBAPI2 connection. Other DBAPI2 objects are not tested. Please consider using SQLAlchemy.\n",
      "  fetched_df = pd.read_sql_query(fetch_query, conn)\n"
     ]
    }
   ],
   "source": [
    "# Fetch data from raw_data table and display\n",
    "fetch_query = \"SELECT * FROM raw_data\"\n",
    "fetched_df = pd.read_sql_query(fetch_query, conn)"
   ]
  },
  {
   "cell_type": "code",
   "execution_count": 44,
   "id": "8091d276-98d4-43ed-9de2-e8104eb1529c",
   "metadata": {},
   "outputs": [
    {
     "data": {
      "text/html": [
       "<div>\n",
       "<style scoped>\n",
       "    .dataframe tbody tr th:only-of-type {\n",
       "        vertical-align: middle;\n",
       "    }\n",
       "\n",
       "    .dataframe tbody tr th {\n",
       "        vertical-align: top;\n",
       "    }\n",
       "\n",
       "    .dataframe thead th {\n",
       "        text-align: right;\n",
       "    }\n",
       "</style>\n",
       "<table border=\"1\" class=\"dataframe\">\n",
       "  <thead>\n",
       "    <tr style=\"text-align: right;\">\n",
       "      <th></th>\n",
       "      <th>id</th>\n",
       "      <th>name</th>\n",
       "      <th>age</th>\n",
       "      <th>city</th>\n",
       "    </tr>\n",
       "  </thead>\n",
       "  <tbody>\n",
       "    <tr>\n",
       "      <th>0</th>\n",
       "      <td>1</td>\n",
       "      <td>Mike</td>\n",
       "      <td>23.0</td>\n",
       "      <td>Nakuru</td>\n",
       "    </tr>\n",
       "    <tr>\n",
       "      <th>1</th>\n",
       "      <td>2</td>\n",
       "      <td>Jane</td>\n",
       "      <td>NaN</td>\n",
       "      <td>Nakuru</td>\n",
       "    </tr>\n",
       "    <tr>\n",
       "      <th>2</th>\n",
       "      <td>3</td>\n",
       "      <td>Chris</td>\n",
       "      <td>56.0</td>\n",
       "      <td>Mombasa</td>\n",
       "    </tr>\n",
       "    <tr>\n",
       "      <th>3</th>\n",
       "      <td>4</td>\n",
       "      <td>None</td>\n",
       "      <td>25.0</td>\n",
       "      <td>Mombasa</td>\n",
       "    </tr>\n",
       "    <tr>\n",
       "      <th>4</th>\n",
       "      <td>5</td>\n",
       "      <td>Emily</td>\n",
       "      <td>21.0</td>\n",
       "      <td>Eldoret</td>\n",
       "    </tr>\n",
       "  </tbody>\n",
       "</table>\n",
       "</div>"
      ],
      "text/plain": [
       "   id   name   age     city\n",
       "0   1   Mike  23.0   Nakuru\n",
       "1   2   Jane   NaN   Nakuru\n",
       "2   3  Chris  56.0  Mombasa\n",
       "3   4   None  25.0  Mombasa\n",
       "4   5  Emily  21.0  Eldoret"
      ]
     },
     "execution_count": 44,
     "metadata": {},
     "output_type": "execute_result"
    }
   ],
   "source": [
    "fetched_df.head()"
   ]
  },
  {
   "cell_type": "code",
   "execution_count": 45,
   "id": "db4e948c-b6d3-4393-8798-73dbd87b383d",
   "metadata": {},
   "outputs": [
    {
     "data": {
      "text/plain": [
       "id       0\n",
       "name    25\n",
       "age     10\n",
       "city    17\n",
       "dtype: int64"
      ]
     },
     "execution_count": 45,
     "metadata": {},
     "output_type": "execute_result"
    }
   ],
   "source": [
    "#check for missing values\n",
    "(fetched_df.isna()).sum()"
   ]
  },
  {
   "cell_type": "code",
   "execution_count": 46,
   "id": "891ec167-7027-4415-9ab5-49ce7f48c774",
   "metadata": {},
   "outputs": [
    {
     "data": {
      "text/plain": [
       "array(['Nakuru', 'Mombasa', 'Eldoret', 'Nairobi', 'Kisumu', None],\n",
       "      dtype=object)"
      ]
     },
     "execution_count": 46,
     "metadata": {},
     "output_type": "execute_result"
    }
   ],
   "source": [
    "\n",
    "fetched_df[\"city\"].unique()"
   ]
  },
  {
   "cell_type": "code",
   "execution_count": 47,
   "id": "a4e6ed28-bdf6-404e-9b73-124f43feeff3",
   "metadata": {},
   "outputs": [
    {
     "data": {
      "text/html": [
       "<div>\n",
       "<style scoped>\n",
       "    .dataframe tbody tr th:only-of-type {\n",
       "        vertical-align: middle;\n",
       "    }\n",
       "\n",
       "    .dataframe tbody tr th {\n",
       "        vertical-align: top;\n",
       "    }\n",
       "\n",
       "    .dataframe thead th {\n",
       "        text-align: right;\n",
       "    }\n",
       "</style>\n",
       "<table border=\"1\" class=\"dataframe\">\n",
       "  <thead>\n",
       "    <tr style=\"text-align: right;\">\n",
       "      <th></th>\n",
       "      <th>id</th>\n",
       "      <th>age</th>\n",
       "    </tr>\n",
       "  </thead>\n",
       "  <tbody>\n",
       "    <tr>\n",
       "      <th>count</th>\n",
       "      <td>100.000000</td>\n",
       "      <td>90.000000</td>\n",
       "    </tr>\n",
       "    <tr>\n",
       "      <th>mean</th>\n",
       "      <td>50.500000</td>\n",
       "      <td>36.466667</td>\n",
       "    </tr>\n",
       "    <tr>\n",
       "      <th>std</th>\n",
       "      <td>29.011492</td>\n",
       "      <td>11.771418</td>\n",
       "    </tr>\n",
       "    <tr>\n",
       "      <th>min</th>\n",
       "      <td>1.000000</td>\n",
       "      <td>18.000000</td>\n",
       "    </tr>\n",
       "    <tr>\n",
       "      <th>25%</th>\n",
       "      <td>25.750000</td>\n",
       "      <td>26.000000</td>\n",
       "    </tr>\n",
       "    <tr>\n",
       "      <th>50%</th>\n",
       "      <td>50.500000</td>\n",
       "      <td>34.500000</td>\n",
       "    </tr>\n",
       "    <tr>\n",
       "      <th>75%</th>\n",
       "      <td>75.250000</td>\n",
       "      <td>48.000000</td>\n",
       "    </tr>\n",
       "    <tr>\n",
       "      <th>max</th>\n",
       "      <td>100.000000</td>\n",
       "      <td>58.000000</td>\n",
       "    </tr>\n",
       "  </tbody>\n",
       "</table>\n",
       "</div>"
      ],
      "text/plain": [
       "               id        age\n",
       "count  100.000000  90.000000\n",
       "mean    50.500000  36.466667\n",
       "std     29.011492  11.771418\n",
       "min      1.000000  18.000000\n",
       "25%     25.750000  26.000000\n",
       "50%     50.500000  34.500000\n",
       "75%     75.250000  48.000000\n",
       "max    100.000000  58.000000"
      ]
     },
     "execution_count": 47,
     "metadata": {},
     "output_type": "execute_result"
    }
   ],
   "source": [
    "#summary statistics of continuos variables\n",
    "fetched_df.describe()"
   ]
  },
  {
   "cell_type": "code",
   "execution_count": 48,
   "id": "6c4071bd-661c-4134-9b97-d117bc1de9a0",
   "metadata": {},
   "outputs": [],
   "source": [
    "# Perform transformations using Pandas\n",
    "# Cleaning data - removing rows with missing values\n",
    "cleaned_df = fetched_df.dropna()"
   ]
  },
  {
   "cell_type": "code",
   "execution_count": 49,
   "id": "3887e9ce-7be7-45ee-987a-f3ade8cde4af",
   "metadata": {},
   "outputs": [],
   "source": [
    "# create a copy of our cleaned df to avoid SettingWithCopyWarning\n",
    "cleaned_df = cleaned_df.copy()\n"
   ]
  },
  {
   "cell_type": "code",
   "execution_count": 50,
   "id": "5921f63e-f607-4787-b061-646387e2f5d7",
   "metadata": {},
   "outputs": [],
   "source": [
    "#Remove rows with empty strings in 'city' column\n",
    "cleaned_df = cleaned_df[cleaned_df['city'] != '']\n"
   ]
  },
  {
   "cell_type": "code",
   "execution_count": 51,
   "id": "b3d26187-b012-42b3-91f9-be0ae9009292",
   "metadata": {},
   "outputs": [],
   "source": [
    "#Apply transformations to 'name' column by changing to upper case\n",
    "cleaned_df.loc[:, 'name'] = cleaned_df.loc[:, 'name'].str.upper()\n"
   ]
  },
  {
   "cell_type": "code",
   "execution_count": 52,
   "id": "ccfabdf2-6b9a-40d2-8197-28a5fd89ecd5",
   "metadata": {},
   "outputs": [
    {
     "data": {
      "text/html": [
       "<div>\n",
       "<style scoped>\n",
       "    .dataframe tbody tr th:only-of-type {\n",
       "        vertical-align: middle;\n",
       "    }\n",
       "\n",
       "    .dataframe tbody tr th {\n",
       "        vertical-align: top;\n",
       "    }\n",
       "\n",
       "    .dataframe thead th {\n",
       "        text-align: right;\n",
       "    }\n",
       "</style>\n",
       "<table border=\"1\" class=\"dataframe\">\n",
       "  <thead>\n",
       "    <tr style=\"text-align: right;\">\n",
       "      <th></th>\n",
       "      <th>id</th>\n",
       "      <th>name</th>\n",
       "      <th>age</th>\n",
       "      <th>city</th>\n",
       "    </tr>\n",
       "  </thead>\n",
       "  <tbody>\n",
       "    <tr>\n",
       "      <th>0</th>\n",
       "      <td>1</td>\n",
       "      <td>MIKE</td>\n",
       "      <td>23.0</td>\n",
       "      <td>Nakuru</td>\n",
       "    </tr>\n",
       "    <tr>\n",
       "      <th>2</th>\n",
       "      <td>3</td>\n",
       "      <td>CHRIS</td>\n",
       "      <td>56.0</td>\n",
       "      <td>Mombasa</td>\n",
       "    </tr>\n",
       "    <tr>\n",
       "      <th>4</th>\n",
       "      <td>5</td>\n",
       "      <td>EMILY</td>\n",
       "      <td>21.0</td>\n",
       "      <td>Eldoret</td>\n",
       "    </tr>\n",
       "    <tr>\n",
       "      <th>5</th>\n",
       "      <td>6</td>\n",
       "      <td>JOHN</td>\n",
       "      <td>23.0</td>\n",
       "      <td>Nakuru</td>\n",
       "    </tr>\n",
       "    <tr>\n",
       "      <th>7</th>\n",
       "      <td>8</td>\n",
       "      <td>CHRIS</td>\n",
       "      <td>50.0</td>\n",
       "      <td>Kisumu</td>\n",
       "    </tr>\n",
       "  </tbody>\n",
       "</table>\n",
       "</div>"
      ],
      "text/plain": [
       "   id   name   age     city\n",
       "0   1   MIKE  23.0   Nakuru\n",
       "2   3  CHRIS  56.0  Mombasa\n",
       "4   5  EMILY  21.0  Eldoret\n",
       "5   6   JOHN  23.0   Nakuru\n",
       "7   8  CHRIS  50.0   Kisumu"
      ]
     },
     "execution_count": 52,
     "metadata": {},
     "output_type": "execute_result"
    }
   ],
   "source": [
    "cleaned_df.head()"
   ]
  },
  {
   "cell_type": "code",
   "execution_count": 55,
   "id": "5a495619-a7f7-4195-8432-e2fdd7623fa8",
   "metadata": {},
   "outputs": [
    {
     "name": "stdout",
     "output_type": "stream",
     "text": [
      "<class 'pandas.core.frame.DataFrame'>\n",
      "Index: 54 entries, 0 to 99\n",
      "Data columns (total 4 columns):\n",
      " #   Column  Non-Null Count  Dtype \n",
      "---  ------  --------------  ----- \n",
      " 0   id      54 non-null     int64 \n",
      " 1   name    54 non-null     object\n",
      " 2   age     54 non-null     int64 \n",
      " 3   city    54 non-null     object\n",
      "dtypes: int64(2), object(2)\n",
      "memory usage: 2.1+ KB\n"
     ]
    }
   ],
   "source": [
    "cleaned_df.info()"
   ]
  },
  {
   "cell_type": "code",
   "execution_count": 54,
   "id": "477a2449-f197-4de6-a68b-0eae1c9eb9b2",
   "metadata": {},
   "outputs": [],
   "source": [
    "# Convert 'age' column to integer type\n",
    "cleaned_df['age'] = cleaned_df['age'].astype(int)"
   ]
  },
  {
   "cell_type": "code",
   "execution_count": 56,
   "id": "0c6dbfca-ac4e-47fa-a7f1-864f74e68cea",
   "metadata": {},
   "outputs": [],
   "source": [
    "# Create a new table for cleaned data in MySQL database\n",
    "create_cleaned_table_query = \"\"\"\n",
    "CREATE TABLE IF NOT EXISTS cleaned_data (\n",
    "    id INT AUTO_INCREMENT PRIMARY KEY,\n",
    "    name VARCHAR(255),\n",
    "    age INT,\n",
    "    city VARCHAR(255)\n",
    ");\n",
    "\"\"\"\n",
    "execute_query(create_cleaned_table_query)"
   ]
  },
  {
   "cell_type": "code",
   "execution_count": 57,
   "id": "e8a217c6-4ec9-4fee-a7a3-57c2c561c692",
   "metadata": {},
   "outputs": [],
   "source": [
    "# Insert cleaned data into MySQL table\n",
    "for index, row in cleaned_df.iterrows():\n",
    "    insert_query = f\"\"\"\n",
    "    INSERT INTO cleaned_data (name, age, city) \n",
    "    VALUES ('{row['name']}', {row['age']}, '{row['city']}')\n",
    "    \"\"\"\n",
    "    execute_query(insert_query)"
   ]
  },
  {
   "cell_type": "code",
   "execution_count": 58,
   "id": "4fbfb2b3-5416-4b49-b185-3eb24b602334",
   "metadata": {},
   "outputs": [
    {
     "name": "stdout",
     "output_type": "stream",
     "text": [
      "    name  age\n",
      "0   MIKE   23\n",
      "1  CHRIS   56\n",
      "2  EMILY   21\n",
      "3   JOHN   23\n",
      "4  CHRIS   50\n"
     ]
    },
    {
     "name": "stderr",
     "output_type": "stream",
     "text": [
      "C:\\Users\\Amoro\\AppData\\Local\\Temp\\ipykernel_6816\\1557231860.py:3: UserWarning: pandas only supports SQLAlchemy connectable (engine/connection) or database string URI or sqlite3 DBAPI2 connection. Other DBAPI2 objects are not tested. Please consider using SQLAlchemy.\n",
      "  cleaned_df_fetched = pd.read_sql_query(fetch_cleaned_query, conn)\n"
     ]
    }
   ],
   "source": [
    "# Fetch data from cleaned table and display\n",
    "fetch_cleaned_query = \"SELECT name, age FROM cleaned_data\"\n",
    "cleaned_df_fetched = pd.read_sql_query(fetch_cleaned_query, conn)\n",
    "print(cleaned_df_fetched.head())"
   ]
  }
 ],
 "metadata": {
  "kernelspec": {
   "display_name": "Python 3",
   "language": "python",
   "name": "python3"
  },
  "language_info": {
   "codemirror_mode": {
    "name": "ipython",
    "version": 3
   },
   "file_extension": ".py",
   "mimetype": "text/x-python",
   "name": "python",
   "nbconvert_exporter": "python",
   "pygments_lexer": "ipython3",
   "version": "3.12.5"
  }
 },
 "nbformat": 4,
 "nbformat_minor": 5
}
