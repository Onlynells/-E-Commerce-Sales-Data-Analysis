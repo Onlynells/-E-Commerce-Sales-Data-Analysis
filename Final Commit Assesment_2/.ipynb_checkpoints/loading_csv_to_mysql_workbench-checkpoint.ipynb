{
 "cells": [
  {
   "cell_type": "code",
   "execution_count": null,
   "metadata": {
    "vscode": {
     "languageId": "plaintext"
    }
   },
   "outputs": [],
   "source": [
    "import mysql.connector\n",
    "\n",
    "# Connect to MySQL\n",
    "conn = mysql.connector.connect(\n",
    "    host=\"localhost\",\n",
    "    user=\"root\",\n",
    "    password=\"Test@2025\",\n",
    "    database=\"eccommerce_bd\"\n",
    ")\n",
    "cursor = conn.cursor()\n",
    "\n",
    "# Insert data from Pandas to MySQL\n",
    "for _, row in df.iterrows():\n",
    "    cursor.execute(\"\"\"\n",
    "        INSERT INTO products (product_name, category, discounted_price, actual_price, \n",
    "                              discount_percentage, rating, rating_count, review_year)\n",
    "        VALUES (%s, %s, %s, %s, %s, %s, %s, %s)\n",
    "    \"\"\", (row['product_name'], row['main_category'], row['discounted_price'],\n",
    "          row['actual_price'], row['discount_percentage'], row['rating'],\n",
    "          row['rating_count'], row['review_year']))\n",
    "    \n",
    "conn.commit()\n",
    "cursor.close()\n",
    "conn.close()\n"
   ]
  }
 ],
 "metadata": {
  "language_info": {
   "name": "python"
  }
 },
 "nbformat": 4,
 "nbformat_minor": 2
}
